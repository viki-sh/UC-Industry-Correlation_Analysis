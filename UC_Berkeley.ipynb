{
 "cells": [
  {
   "cell_type": "markdown",
   "metadata": {},
   "source": []
  },
  {
   "cell_type": "code",
   "execution_count": null,
   "metadata": {},
   "outputs": [
    {
     "name": "stderr",
     "output_type": "stream",
     "text": [
      "  0%|          | 0/48 [00:00<?, ?it/s]"
     ]
    },
    {
     "data": {
      "application/vnd.jupyter.widget-view+json": {
       "model_id": "28e646d888eb43b68b0fd7f88af912d5",
       "version_major": 2,
       "version_minor": 0
      },
      "text/plain": [
       "modules.json:   0%|          | 0.00/349 [00:00<?, ?B/s]"
      ]
     },
     "metadata": {},
     "output_type": "display_data"
    },
    {
     "name": "stderr",
     "output_type": "stream",
     "text": [
      "c:\\Users\\Viki Shi\\.conda\\envs\\dsc80\\Lib\\site-packages\\huggingface_hub\\file_download.py:142: UserWarning: `huggingface_hub` cache-system uses symlinks by default to efficiently store duplicated files but your machine does not support them in C:\\Users\\Viki Shi\\.cache\\huggingface\\hub\\models--sentence-transformers--all-MiniLM-L6-v2. Caching files will still work but in a degraded version that might require more space on your disk. This warning can be disabled by setting the `HF_HUB_DISABLE_SYMLINKS_WARNING` environment variable. For more details, see https://huggingface.co/docs/huggingface_hub/how-to-cache#limitations.\n",
      "To support symlinks on Windows, you either need to activate Developer Mode or to run Python as an administrator. In order to activate developer mode, see this article: https://docs.microsoft.com/en-us/windows/apps/get-started/enable-your-device-for-development\n",
      "  warnings.warn(message)\n"
     ]
    },
    {
     "data": {
      "application/vnd.jupyter.widget-view+json": {
       "model_id": "3bda5f1ab796457faba8c930a5d1e7aa",
       "version_major": 2,
       "version_minor": 0
      },
      "text/plain": [
       "config_sentence_transformers.json:   0%|          | 0.00/116 [00:00<?, ?B/s]"
      ]
     },
     "metadata": {},
     "output_type": "display_data"
    },
    {
     "data": {
      "application/vnd.jupyter.widget-view+json": {
       "model_id": "91c9a6a3f105491594a8665c3db89f7e",
       "version_major": 2,
       "version_minor": 0
      },
      "text/plain": [
       "README.md:   0%|          | 0.00/10.7k [00:00<?, ?B/s]"
      ]
     },
     "metadata": {},
     "output_type": "display_data"
    },
    {
     "data": {
      "application/vnd.jupyter.widget-view+json": {
       "model_id": "d9f9804365b249f2b6b9c69683051f45",
       "version_major": 2,
       "version_minor": 0
      },
      "text/plain": [
       "sentence_bert_config.json:   0%|          | 0.00/53.0 [00:00<?, ?B/s]"
      ]
     },
     "metadata": {},
     "output_type": "display_data"
    },
    {
     "data": {
      "application/vnd.jupyter.widget-view+json": {
       "model_id": "152f354ef96c4200b5202f8514cedd3a",
       "version_major": 2,
       "version_minor": 0
      },
      "text/plain": [
       "config.json:   0%|          | 0.00/612 [00:00<?, ?B/s]"
      ]
     },
     "metadata": {},
     "output_type": "display_data"
    },
    {
     "data": {
      "application/vnd.jupyter.widget-view+json": {
       "model_id": "99b1c79d7a4442efafc4a364ce743b14",
       "version_major": 2,
       "version_minor": 0
      },
      "text/plain": [
       "model.safetensors:   0%|          | 0.00/90.9M [00:00<?, ?B/s]"
      ]
     },
     "metadata": {},
     "output_type": "display_data"
    },
    {
     "data": {
      "application/vnd.jupyter.widget-view+json": {
       "model_id": "1a7f17cbcc2c4998b3f5c979c4ab56a9",
       "version_major": 2,
       "version_minor": 0
      },
      "text/plain": [
       "tokenizer_config.json:   0%|          | 0.00/350 [00:00<?, ?B/s]"
      ]
     },
     "metadata": {},
     "output_type": "display_data"
    },
    {
     "data": {
      "application/vnd.jupyter.widget-view+json": {
       "model_id": "297de54924784f10a12898f1bd5219fd",
       "version_major": 2,
       "version_minor": 0
      },
      "text/plain": [
       "vocab.txt:   0%|          | 0.00/232k [00:00<?, ?B/s]"
      ]
     },
     "metadata": {},
     "output_type": "display_data"
    },
    {
     "data": {
      "application/vnd.jupyter.widget-view+json": {
       "model_id": "d1a7a4a2a6674ad790444c3ea1011c63",
       "version_major": 2,
       "version_minor": 0
      },
      "text/plain": [
       "tokenizer.json:   0%|          | 0.00/466k [00:00<?, ?B/s]"
      ]
     },
     "metadata": {},
     "output_type": "display_data"
    },
    {
     "data": {
      "application/vnd.jupyter.widget-view+json": {
       "model_id": "059587bbd3184f00b61059674ff668aa",
       "version_major": 2,
       "version_minor": 0
      },
      "text/plain": [
       "special_tokens_map.json:   0%|          | 0.00/112 [00:00<?, ?B/s]"
      ]
     },
     "metadata": {},
     "output_type": "display_data"
    },
    {
     "data": {
      "application/vnd.jupyter.widget-view+json": {
       "model_id": "bb26dcf655da4527aeb3a9819094e69b",
       "version_major": 2,
       "version_minor": 0
      },
      "text/plain": [
       "1_Pooling%2Fconfig.json:   0%|          | 0.00/190 [00:00<?, ?B/s]"
      ]
     },
     "metadata": {},
     "output_type": "display_data"
    },
    {
     "name": "stderr",
     "output_type": "stream",
     "text": [
      "100%|██████████| 48/48 [00:58<00:00,  1.22s/it]"
     ]
    },
    {
     "name": "stdout",
     "output_type": "stream",
     "text": [
      "        Course ID                                       Course Title  \\\n",
      "0      COMPSCI C8                        Foundations of Data Science   \n",
      "1      COMPSCI 10                    The Beauty and Joy of Computing   \n",
      "2     COMPSCI W10                    The Beauty and Joy of Computing   \n",
      "3      COMPSCI 36  CS Scholars Seminar: The Educational Climate i...   \n",
      "4      COMPSCI 39                         Freshman/Sophomore Seminar   \n",
      "5     COMPSCI 47A         Completion of Work in Computer Science 61A   \n",
      "6     COMPSCI 47B         Completion of Work in Computer Science 61B   \n",
      "7     COMPSCI 47C         Completion of Work in Computer Science 61C   \n",
      "8     COMPSCI 61A  The Structure and Interpretation of Computer P...   \n",
      "9     COMPSCI 61B                                    Data Structures   \n",
      "10   COMPSCI 61BL        Data Structures and Programming Methodology   \n",
      "11    COMPSCI 61C  Great Ideas of Computer Architecture (Machine ...   \n",
      "12     COMPSCI 70        Discrete Mathematics and Probability Theory   \n",
      "13     COMPSCI 84                                  Sophomore Seminar   \n",
      "14   COMPSCI C88C           Computational Structures in Data Science   \n",
      "15   COMPSCI C100            Principles & Techniques of Data Science   \n",
      "16    COMPSCI 152              Computer Architecture and Engineering   \n",
      "17    COMPSCI 160              User Interface Design and Development   \n",
      "18    COMPSCI 161                                  Computer Security   \n",
      "19    COMPSCI 162           Operating Systems and System Programming   \n",
      "20    COMPSCI 164                Programming Languages and Compilers   \n",
      "21    COMPSCI 168  Introduction to the Internet: Architecture and...   \n",
      "22   COMPSCI 169A               Introduction to Software Engineering   \n",
      "23   COMPSCI 169L                  Software Engineering Team Project   \n",
      "24    COMPSCI 170      Efficient Algorithms and Intractable Problems   \n",
      "25    COMPSCI 171                                       Cryptography   \n",
      "26    COMPSCI 172                       Computability and Complexity   \n",
      "27    COMPSCI 174             Combinatorics and Discrete Probability   \n",
      "28    COMPSCI 176               Algorithms for Computational Biology   \n",
      "29   COMPSCI C176               Algorithms for Computational Biology   \n",
      "30   COMPSCI C177                              Algorithmic Economics   \n",
      "31    COMPSCI 180  Intro to Computer Vision and Computational Pho...   \n",
      "32   COMPSCI C182  Designing, Visualizing and Understanding Deep ...   \n",
      "33    COMPSCI 184                   Foundations of Computer Graphics   \n",
      "34    COMPSCI 185  Deep Reinforcement Learning, Decision Making, ...   \n",
      "35    COMPSCI 186                   Introduction to Database Systems   \n",
      "36   COMPSCI C187                                   Data Engineering   \n",
      "37    COMPSCI 188            Introduction to Artificial Intelligence   \n",
      "38    COMPSCI 189                   Introduction to Machine Learning   \n",
      "39   COMPSCI C191                  Introduction to Quantum Computing   \n",
      "40    COMPSCI 194                                     Special Topics   \n",
      "41    COMPSCI 195         Social Implications of Computer Technology   \n",
      "42   COMPSCI H195  Honors Social Implications of Computer Technology   \n",
      "43  COMPSCI H196A                      Senior Honors Thesis Research   \n",
      "44  COMPSCI H196B                      Senior Honors Thesis Research   \n",
      "45    COMPSCI 197                                        Field Study   \n",
      "46    COMPSCI 198  Directed Group Studies for Advanced Undergradu...   \n",
      "47    COMPSCI 199                       Supervised Independent Study   \n",
      "\n",
      "                                   Course Description  Upper Div  \\\n",
      "0   Foundations of data science from three perspec...      False   \n",
      "1   An introductory course for students with minim...      False   \n",
      "2   This course meets the programming prerequisite...      False   \n",
      "3   Computer Science 36 is a seminar for CS Schola...      False   \n",
      "4   Freshman and sophomore seminars offer lower di...      False   \n",
      "5   Implementation of generic operations. Streams ...      False   \n",
      "6   Iterators. Hashing, applied to strings and mul...      False   \n",
      "7   MIPS instruction set simulation. The assembly ...      False   \n",
      "8   An introduction to programming and computer sc...      False   \n",
      "9   Fundamental dynamic data structures, including...      False   \n",
      "10  The same material as in 61B, but in a laborato...      False   \n",
      "11  The internal organization and operation of dig...      False   \n",
      "12  Logic, infinity, and induction; applications i...      False   \n",
      "13  Sophomore seminars are small interactive cours...      False   \n",
      "14  Development of Computer Science topics appeari...      False   \n",
      "15  In this course, students will explore the data...       True   \n",
      "16  Instruction set architecture, microcoding, pip...       True   \n",
      "17  The design, implementation, and evaluation of ...       True   \n",
      "18  Introduction to computer security. Cryptograph...       True   \n",
      "19  Basic concepts of operating systems and system...       True   \n",
      "20  Survey of programming languages. The design of...       True   \n",
      "21  This course is an introduction to the Internet...       True   \n",
      "22  Ideas and techniques for designing, developing...       True   \n",
      "23  Open-ended design project enhancing or creatin...       True   \n",
      "24  Concept and basic techniques in the design and...       True   \n",
      "25  Cryptography or cryptology is the science of d...       True   \n",
      "26  Finite automata, Turing machines and RAMs. Und...       True   \n",
      "27  Permutations, combinations, principle of inclu...       True   \n",
      "28  Algorithms and probabilistic models that arise...       True   \n",
      "29  This course will provide familiarity with algo...       True   \n",
      "30  The class provides an introduction to algorith...       True   \n",
      "31  This advanced undergraduate course introduces ...       True   \n",
      "32  Deep Networks have revolutionized computer vis...       True   \n",
      "33  Techniques of modeling objects for the purpose...       True   \n",
      "34  This course will cover the intersection of con...       True   \n",
      "35  Access methods and file systems to facilitate ...       True   \n",
      "36  This course will cover the principles and prac...       True   \n",
      "37  Ideas and techniques underlying the design of ...       True   \n",
      "38  Theoretical foundations, algorithms, methodolo...       True   \n",
      "39  This multidisciplinary course provides an intr...       True   \n",
      "40  Topics will vary semester to semester. See the...       True   \n",
      "41  Topics include electronic community; the chang...       True   \n",
      "42  Topics include electronic community; the chang...       True   \n",
      "43  Thesis work under the supervision of a faculty...       True   \n",
      "44  Thesis work under the supervision of a faculty...       True   \n",
      "45  Students take part in organized individual fie...       True   \n",
      "46  Group study of selected topics in Computer Sci...       True   \n",
      "47  Supervised independent study. Enrollment restr...       True   \n",
      "\n",
      "                                             keywords  \n",
      "0   [data, datasets, privacy, computational, stati...  \n",
      "1   [programming, computing, python, program, algo...  \n",
      "2   [programming, computing, students, application...  \n",
      "3   [cs36, cs61a, academia, programs, curriculum, ...  \n",
      "4   [seminars, seminar, semester, students, campus...  \n",
      "5   [implementation, streams, generic, iterators, ...  \n",
      "6   [iterators, hashing, heaps, storage, strings, ...  \n",
      "7   [mips, instruction, simulation, assembly, proc...  \n",
      "8   [abstraction, programming, complexity, algorit...  \n",
      "9   [java, algorithms, sorting, lists, storage, ar...  \n",
      "10  [material, 61b, laboratory, format, based, in,...  \n",
      "11  [architecture, architectural, computers, syste...  \n",
      "12  [applications, examples, cryptography, gcds, u...  \n",
      "13  [seminars, sophomores, sophomore, semester, st...  \n",
      "14  [programming, computational, programs, program...  \n",
      "15  [data, visualizations, visualization, analyzin...  \n",
      "16  [multiprocessors, processor, architecture, mul...  \n",
      "17  [usability, prototyping, design, interface, in...  \n",
      "18  [cryptographic, cryptography, security, encryp...  \n",
      "19  [interprocess, programs, programming, program,...  \n",
      "20  [compilers, programming, interpreters, impleme...  \n",
      "21  [protocols, tcp, routing, http, udp, ethernet,...  \n",
      "22  [agile, software, refactoring, development, ar...  \n",
      "23  [agile, scrums, teamwork, collaboration, softw...  \n",
      "24  [algorithms, computation, turing, machines, tr...  \n",
      "25  [cryptography, cryptology, encryption, complex...  \n",
      "26  [automata, turing, complexity, nondeterministi...  \n",
      "27  [probabilistic, permutations, computations, ha...  \n",
      "28  [phylogenetics, algorithms, genome, rna, biolo...  \n",
      "29  [phylogenetics, genome, biology, algorithms, g...  \n",
      "30  [algorithmic, economic, pricing, consumption, ...  \n",
      "31  [photographs, photography, images, programming...  \n",
      "32  [networks, deep, yann, intuitive, lecun, insig...  \n",
      "33  [rendering, modeling, graphics, geometrical, s...  \n",
      "34  [reinforcement, learning, assignments, explora...  \n",
      "35  [database, relational, access, data, applicati...  \n",
      "36  [data, managing, operationalization, managemen...  \n",
      "37  [topics, systems, robotics, design, intelligen...  \n",
      "38  [algorithms, supervised, clustering, models, p...  \n",
      "39  [quantum, cryptography, nanoscale, multidiscip...  \n",
      "40  [semester, topics, announcements, science, div...  \n",
      "41  [topics, discussions, students, pornography, t...  \n",
      "42  [topics, discussions, students, pornography, t...  \n",
      "43  [thesis, semesters, h196a, h196b, graded, unit...  \n",
      "44  [thesis, semesters, h196a, h196b, graded, unit...  \n",
      "45  [students, programs, campus, requirements, cpt...  \n",
      "46  [topics, developments, study, sciences, group,...  \n",
      "47  [enrollment, study, restrictions, supervised, ...  \n"
     ]
    },
    {
     "name": "stderr",
     "output_type": "stream",
     "text": [
      "\n"
     ]
    }
   ],
   "source": [
    "import requests\n",
    "import pandas as pd\n",
    "from bs4 import BeautifulSoup\n",
    "from tqdm import tqdm\n",
    "from keybert import KeyBERT\n",
    "\n",
    "tqdm.pandas()\n",
    "\n",
    "berk = \"https://guide.berkeley.edu/courses/compsci/\"\n",
    "berk_req = requests.get(berk)\n",
    "soup = BeautifulSoup(berk_req.text, \"html.parser\")\n",
    "\n",
    "divs = soup.find_all(\"div\", class_=\"courseblock\")\n",
    "\n",
    "\n",
    "class_id = []\n",
    "class_title = []\n",
    "desc = []\n",
    "upper = []\n",
    "\n",
    "for div in divs:\n",
    "    heading = div.find(\"p\", class_=\"course-heading\")\n",
    "\n",
    "    if heading:\n",
    "        course_code = div.find(\"span\", class_=\"code\")\n",
    "        course_title = div.find(\"span\", class_=\"title\")\n",
    "        course_desc = div.find(class_=\"courseblockdesc\")\n",
    "\n",
    "        course_details = div.find_all(\"p\")\n",
    "        is_undergrad = any(\"Undergraduate\" in p.text for p in course_details)\n",
    "\n",
    "        if is_undergrad:  \n",
    "            course_id_text = course_code.text.strip()\n",
    "            class_id.append(course_id_text)\n",
    "            class_title.append(course_title.text.strip())\n",
    "            desc.append(course_desc.text.split('\\n')[1])\n",
    "\n",
    "           \n",
    "            course_number = int(\"\".join(filter(str.isdigit, course_id_text)))  # Extract numeric part\n",
    "            is_upper = course_number >= 100\n",
    "            upper.append(is_upper)  \n",
    "\n",
    "\n",
    "df = pd.DataFrame({\n",
    "    \"Course ID\": class_id,\n",
    "    \"Course Title\": class_title,\n",
    "    \"Course Description\": desc,\n",
    "    \"Upper Div\": upper  \n",
    "})\n",
    "\n",
    "\n",
    "def keyword_wrapper(doc):\n",
    "    kw_model = KeyBERT()\n",
    "    stop_words = [\"cs\", \"prerequisite\", \"grade\", \"requirement\", \n",
    "                  \"courses\", \"instructor\", \"faculty\", \"computer\", \"student\", \"concurrently\", \"majors\"]  # Stop words\n",
    "    return [i[0] for i in kw_model.extract_keywords(doc, stop_words=stop_words, top_n=10)]  # Extract top 10 keywords\n",
    "\n",
    "\n",
    "df['keywords'] = df['Course Description'].progress_apply(keyword_wrapper)\n",
    "\n",
    "df\n"
   ]
  },
  {
   "cell_type": "markdown",
   "metadata": {},
   "source": []
  },
  {
   "cell_type": "code",
   "execution_count": null,
   "metadata": {},
   "outputs": [],
   "source": [
    "df.to_csv(\"/tmp/berkeley_cs_courses.csv\", index=False)  # macOS/Linux\n"
   ]
  },
  {
   "cell_type": "code",
   "execution_count": null,
   "metadata": {},
   "outputs": [],
   "source": []
  }
 ],
 "metadata": {
  "kernelspec": {
   "display_name": "Python 3",
   "language": "python",
   "name": "python3"
  },
  "language_info": {
   "codemirror_mode": {
    "name": "ipython",
    "version": 3
   },
   "file_extension": ".py",
   "mimetype": "text/x-python",
   "name": "python",
   "nbconvert_exporter": "python",
   "pygments_lexer": "ipython3",
   "version": "3.12.8"
  }
 },
 "nbformat": 4,
 "nbformat_minor": 2
}
