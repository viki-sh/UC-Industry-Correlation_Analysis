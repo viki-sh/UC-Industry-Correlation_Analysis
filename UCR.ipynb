{
 "cells": [
  {
   "cell_type": "markdown",
   "id": "136516c1-528d-42ea-986d-8089993753e2",
   "metadata": {},
   "source": [
    "## Imports"
   ]
  },
  {
   "cell_type": "code",
   "execution_count": 1,
   "id": "59c9f957-b189-44f1-b743-b7b7f9d26c40",
   "metadata": {},
   "outputs": [],
   "source": [
    "import pandas as pd\n",
    "import numpy as np\n",
    "import matplotlib.pyplot as plt\n",
    "from IPython.display import display\n",
    "import time\n",
    "from tqdm import tqdm\n",
    "\n",
    "from bs4 import BeautifulSoup\n",
    "import requests\n",
    "import re\n",
    "\n",
    "\n",
    "from keybert import KeyBERT"
   ]
  },
  {
   "cell_type": "markdown",
   "id": "3334ff7f-ec63-4f42-abdc-c5cfa617903c",
   "metadata": {},
   "source": [
    "## Web scrape data"
   ]
  },
  {
   "cell_type": "code",
   "execution_count": 2,
   "id": "80e2bd24-8f18-4129-8a1f-29214d5cca66",
   "metadata": {},
   "outputs": [
    {
     "data": {
      "text/html": [
       "<div>\n",
       "<style scoped>\n",
       "    .dataframe tbody tr th:only-of-type {\n",
       "        vertical-align: middle;\n",
       "    }\n",
       "\n",
       "    .dataframe tbody tr th {\n",
       "        vertical-align: top;\n",
       "    }\n",
       "\n",
       "    .dataframe thead th {\n",
       "        text-align: right;\n",
       "    }\n",
       "</style>\n",
       "<table border=\"1\" class=\"dataframe\">\n",
       "  <thead>\n",
       "    <tr style=\"text-align: right;\">\n",
       "      <th></th>\n",
       "      <th>Course</th>\n",
       "      <th>Course Title</th>\n",
       "      <th>Description</th>\n",
       "    </tr>\n",
       "  </thead>\n",
       "  <tbody>\n",
       "    <tr>\n",
       "      <th>0</th>\n",
       "      <td>ENGR 001</td>\n",
       "      <td>Professional Development and Mentoring</td>\n",
       "      <td>1 Unit, Activity, 30 hours per quarter. Provid...</td>\n",
       "    </tr>\n",
       "    <tr>\n",
       "      <th>1</th>\n",
       "      <td>ENGR 101</td>\n",
       "      <td>Professional Development and Mentoring</td>\n",
       "      <td>1 Unit, Activity, 30 hours per quarter. Prereq...</td>\n",
       "    </tr>\n",
       "    <tr>\n",
       "      <th>2</th>\n",
       "      <td>ENGR 180W</td>\n",
       "      <td>Technical Communications</td>\n",
       "      <td>4 Units, Lecture, 3 hours; workshop, 3 hours. ...</td>\n",
       "    </tr>\n",
       "    <tr>\n",
       "      <th>3</th>\n",
       "      <td>CS 005</td>\n",
       "      <td>Introduction to Computer Programming</td>\n",
       "      <td>4 Units, Lecture, 3 hours; laboratory,2 hours;...</td>\n",
       "    </tr>\n",
       "    <tr>\n",
       "      <th>4</th>\n",
       "      <td>CS 006</td>\n",
       "      <td>Effective Use of the World Wide Web</td>\n",
       "      <td>4 Units, Lecture, 3 hours; laboratory, 3 hours...</td>\n",
       "    </tr>\n",
       "  </tbody>\n",
       "</table>\n",
       "</div>"
      ],
      "text/plain": [
       "      Course                            Course Title  \\\n",
       "0   ENGR 001  Professional Development and Mentoring   \n",
       "1   ENGR 101  Professional Development and Mentoring   \n",
       "2  ENGR 180W                Technical Communications   \n",
       "3     CS 005    Introduction to Computer Programming   \n",
       "4     CS 006     Effective Use of the World Wide Web   \n",
       "\n",
       "                                         Description  \n",
       "0  1 Unit, Activity, 30 hours per quarter. Provid...  \n",
       "1  1 Unit, Activity, 30 hours per quarter. Prereq...  \n",
       "2  4 Units, Lecture, 3 hours; workshop, 3 hours. ...  \n",
       "3  4 Units, Lecture, 3 hours; laboratory,2 hours;...  \n",
       "4  4 Units, Lecture, 3 hours; laboratory, 3 hours...  "
      ]
     },
     "metadata": {},
     "output_type": "display_data"
    }
   ],
   "source": [
    "UCR_url = \"https://www1.cs.ucr.edu/undergraduate/course-descriptions\"\n",
    "\n",
    "response = requests.get(UCR_url)\n",
    "\n",
    "if response.status_code == 200:\n",
    "    \n",
    "    soup = BeautifulSoup(response.text, \"html.parser\")\n",
    "\n",
    "    tables = soup.find_all(\"table\", class_=\"ui yellow definition striped table\")\n",
    "\n",
    "    header = tables[0].find_all('tr')[0].text.split('\\n')[1:4]\n",
    "\n",
    "    data = [tables[0].find_all('tr')[i].text.split('\\n')[1:4] for i in range(1, len(tables[0].find_all('tr')))]\n",
    "\n",
    "    df = pd.DataFrame(data, columns = header)\n",
    "\n",
    "    \n",
    "    display(df.head())\n",
    "\n",
    "else:\n",
    "    print('response failed:', response.status_code)"
   ]
  },
  {
   "cell_type": "markdown",
   "id": "24cab26c-0110-4f16-a4c1-08b1468b8916",
   "metadata": {},
   "source": [
    "## Remove non-CS courses and add Upper Div column. Remove prerequisite sentence"
   ]
  },
  {
   "cell_type": "code",
   "execution_count": 3,
   "id": "c1f96b24-a45a-4bc6-a17a-5d3e4a6bbc61",
   "metadata": {},
   "outputs": [
    {
     "data": {
      "text/html": [
       "<div>\n",
       "<style scoped>\n",
       "    .dataframe tbody tr th:only-of-type {\n",
       "        vertical-align: middle;\n",
       "    }\n",
       "\n",
       "    .dataframe tbody tr th {\n",
       "        vertical-align: top;\n",
       "    }\n",
       "\n",
       "    .dataframe thead th {\n",
       "        text-align: right;\n",
       "    }\n",
       "</style>\n",
       "<table border=\"1\" class=\"dataframe\">\n",
       "  <thead>\n",
       "    <tr style=\"text-align: right;\">\n",
       "      <th></th>\n",
       "      <th>Course</th>\n",
       "      <th>Course Title</th>\n",
       "      <th>Description</th>\n",
       "      <th>Upper Div</th>\n",
       "    </tr>\n",
       "  </thead>\n",
       "  <tbody>\n",
       "    <tr>\n",
       "      <th>0</th>\n",
       "      <td>CS 005</td>\n",
       "      <td>Introduction to Computer Programming</td>\n",
       "      <td>An introduction to computer programming for no...</td>\n",
       "      <td>False</td>\n",
       "    </tr>\n",
       "    <tr>\n",
       "      <th>1</th>\n",
       "      <td>CS 006</td>\n",
       "      <td>Effective Use of the World Wide Web</td>\n",
       "      <td>Adetailed introduction to the Internet fornon-...</td>\n",
       "      <td>False</td>\n",
       "    </tr>\n",
       "    <tr>\n",
       "      <th>2</th>\n",
       "      <td>CS 008</td>\n",
       "      <td>Introduction to Computing</td>\n",
       "      <td>Includes operating system basics (Windows and ...</td>\n",
       "      <td>False</td>\n",
       "    </tr>\n",
       "    <tr>\n",
       "      <th>3</th>\n",
       "      <td>CS 009A</td>\n",
       "      <td>Data-Oriented Introduction to Computing I</td>\n",
       "      <td>Covers computational thinking, problem-solving...</td>\n",
       "      <td>False</td>\n",
       "    </tr>\n",
       "    <tr>\n",
       "      <th>4</th>\n",
       "      <td>CS 009B</td>\n",
       "      <td>Data Oriented Introduction to Computing II</td>\n",
       "      <td>Covers advanced programming concepts and algor...</td>\n",
       "      <td>False</td>\n",
       "    </tr>\n",
       "  </tbody>\n",
       "</table>\n",
       "</div>"
      ],
      "text/plain": [
       "    Course                                Course Title  \\\n",
       "0   CS 005        Introduction to Computer Programming   \n",
       "1   CS 006         Effective Use of the World Wide Web   \n",
       "2   CS 008                   Introduction to Computing   \n",
       "3  CS 009A   Data-Oriented Introduction to Computing I   \n",
       "4  CS 009B  Data Oriented Introduction to Computing II   \n",
       "\n",
       "                                         Description  Upper Div  \n",
       "0  An introduction to computer programming for no...      False  \n",
       "1  Adetailed introduction to the Internet fornon-...      False  \n",
       "2  Includes operating system basics (Windows and ...      False  \n",
       "3  Covers computational thinking, problem-solving...      False  \n",
       "4  Covers advanced programming concepts and algor...      False  "
      ]
     },
     "execution_count": 3,
     "metadata": {},
     "output_type": "execute_result"
    }
   ],
   "source": [
    "df = df[df['Course'].str[:2]==('CS')].reset_index().drop(columns = ['index']) #remove non-cs courses\n",
    "\n",
    "df['Upper Div'] = df['Course'].str.extract(r'(\\d+)')[0].astype(int).apply(lambda x: x >= 100) #Upper div class is 100-199 class\n",
    "\n",
    "\n",
    "def remove_prereq(doc):\n",
    "    doc = re.sub(r'^.*?Prerequisite\\(s\\):.*?(\\.|\\n)', '', doc, flags=re.DOTALL).strip() #remove prerequisites\n",
    "    \n",
    "    #for first class\n",
    "    doc = re.sub(r'4 Units, Lecture, 3 hours; laboratory,2 hours; individual study, 1 hour\\.', '', doc).strip()\n",
    "    \n",
    "    return doc\n",
    "\n",
    "\n",
    "\n",
    "df['Description'] = df['Description'].apply(remove_prereq)\n",
    "\n",
    "df.head()"
   ]
  },
  {
   "cell_type": "markdown",
   "id": "7dce15d3-bd8e-4869-8e04-302b9013404b",
   "metadata": {},
   "source": [
    "## Keyword extraction, timed. Remove irrelevant words and take top 10 keywords"
   ]
  },
  {
   "cell_type": "code",
   "execution_count": 4,
   "id": "212b0895-a070-477d-a548-3a3e1cbf13cc",
   "metadata": {},
   "outputs": [
    {
     "name": "stderr",
     "output_type": "stream",
     "text": [
      "100%|███████████████████████████████████████████████████████████████████████████████████████████████████████████████████████████████████████████████████████████████████████████| 57/57 [02:01<00:00,  2.12s/it]"
     ]
    },
    {
     "name": "stdout",
     "output_type": "stream",
     "text": [
      "Time: 121.15577292442322\n"
     ]
    },
    {
     "name": "stderr",
     "output_type": "stream",
     "text": [
      "\n"
     ]
    }
   ],
   "source": [
    "start = time.time() #time it\n",
    "tqdm.pandas() #time it\n",
    "\n",
    "def keyword_wrapper(doc):\n",
    "    kw_model = KeyBERT() #instantiate model\n",
    "    \n",
    "    stop_words = [\"cs\", \"prerequisite\", \"grade\", \"requirement\", \n",
    "                  \"courses\", \"instructor\", \"faculty\", \"computer\", \"student\", \"concurrently\", \"majors\"] #dont consider these words\n",
    "\n",
    "    return [i[0] for i in kw_model.extract_keywords(doc, stop_words=stop_words, top_n=10)] #top 10 keywords\n",
    "\n",
    "df['keywords'] = df['Description'].progress_apply(keyword_wrapper) #apply functon\n",
    "df.head()\n",
    "end = time.time()\n",
    "print('Time:', end - start) #print time"
   ]
  },
  {
   "cell_type": "markdown",
   "id": "91c0c522-f5c8-40e8-b807-6c6150f8e159",
   "metadata": {},
   "source": [
    "## No longer need description column"
   ]
  },
  {
   "cell_type": "code",
   "execution_count": 5,
   "id": "a380be0a-0c9e-4c12-981f-b842a9dd6c0e",
   "metadata": {},
   "outputs": [],
   "source": [
    "df = df.drop(columns = ['Description'])"
   ]
  },
  {
   "cell_type": "markdown",
   "id": "75fa3c44-f0e8-4c3f-9f4b-88249b9ced08",
   "metadata": {},
   "source": [
    "## Rearrange columns and save csv"
   ]
  },
  {
   "cell_type": "code",
   "execution_count": 6,
   "id": "350c6bd4-0e5b-4ccc-a7d3-ff019d657351",
   "metadata": {},
   "outputs": [
    {
     "data": {
      "text/html": [
       "<div>\n",
       "<style scoped>\n",
       "    .dataframe tbody tr th:only-of-type {\n",
       "        vertical-align: middle;\n",
       "    }\n",
       "\n",
       "    .dataframe tbody tr th {\n",
       "        vertical-align: top;\n",
       "    }\n",
       "\n",
       "    .dataframe thead th {\n",
       "        text-align: right;\n",
       "    }\n",
       "</style>\n",
       "<table border=\"1\" class=\"dataframe\">\n",
       "  <thead>\n",
       "    <tr style=\"text-align: right;\">\n",
       "      <th></th>\n",
       "      <th>Course</th>\n",
       "      <th>Course Title</th>\n",
       "      <th>Upper Div</th>\n",
       "      <th>keywords</th>\n",
       "    </tr>\n",
       "  </thead>\n",
       "  <tbody>\n",
       "    <tr>\n",
       "      <th>0</th>\n",
       "      <td>CS 005</td>\n",
       "      <td>Introduction to Computer Programming</td>\n",
       "      <td>False</td>\n",
       "      <td>[programming, computing, basic, 010a, introduc...</td>\n",
       "    </tr>\n",
       "    <tr>\n",
       "      <th>1</th>\n",
       "      <td>CS 006</td>\n",
       "      <td>Effective Use of the World Wide Web</td>\n",
       "      <td>False</td>\n",
       "      <td>[web, internet, engineering, tools, searching,...</td>\n",
       "    </tr>\n",
       "    <tr>\n",
       "      <th>2</th>\n",
       "      <td>CS 008</td>\n",
       "      <td>Introduction to Computing</td>\n",
       "      <td>False</td>\n",
       "      <td>[credit, 008, 010a, unix, databases, web, basi...</td>\n",
       "    </tr>\n",
       "    <tr>\n",
       "      <th>3</th>\n",
       "      <td>CS 009A</td>\n",
       "      <td>Data-Oriented Introduction to Computing I</td>\n",
       "      <td>False</td>\n",
       "      <td>[computational, software, cs009m, application,...</td>\n",
       "    </tr>\n",
       "    <tr>\n",
       "      <th>4</th>\n",
       "      <td>CS 009B</td>\n",
       "      <td>Data Oriented Introduction to Computing II</td>\n",
       "      <td>False</td>\n",
       "      <td>[programming, programs, software, algorithms, ...</td>\n",
       "    </tr>\n",
       "  </tbody>\n",
       "</table>\n",
       "</div>"
      ],
      "text/plain": [
       "    Course                                Course Title  Upper Div  \\\n",
       "0   CS 005        Introduction to Computer Programming      False   \n",
       "1   CS 006         Effective Use of the World Wide Web      False   \n",
       "2   CS 008                   Introduction to Computing      False   \n",
       "3  CS 009A   Data-Oriented Introduction to Computing I      False   \n",
       "4  CS 009B  Data Oriented Introduction to Computing II      False   \n",
       "\n",
       "                                            keywords  \n",
       "0  [programming, computing, basic, 010a, introduc...  \n",
       "1  [web, internet, engineering, tools, searching,...  \n",
       "2  [credit, 008, 010a, unix, databases, web, basi...  \n",
       "3  [computational, software, cs009m, application,...  \n",
       "4  [programming, programs, software, algorithms, ...  "
      ]
     },
     "execution_count": 6,
     "metadata": {},
     "output_type": "execute_result"
    }
   ],
   "source": [
    "df.head()"
   ]
  },
  {
   "cell_type": "code",
   "execution_count": 7,
   "id": "8649116e-7301-4c7e-a756-9a83d963d9b3",
   "metadata": {},
   "outputs": [
    {
     "data": {
      "text/html": [
       "<div>\n",
       "<style scoped>\n",
       "    .dataframe tbody tr th:only-of-type {\n",
       "        vertical-align: middle;\n",
       "    }\n",
       "\n",
       "    .dataframe tbody tr th {\n",
       "        vertical-align: top;\n",
       "    }\n",
       "\n",
       "    .dataframe thead th {\n",
       "        text-align: right;\n",
       "    }\n",
       "</style>\n",
       "<table border=\"1\" class=\"dataframe\">\n",
       "  <thead>\n",
       "    <tr style=\"text-align: right;\">\n",
       "      <th></th>\n",
       "      <th>Course ID</th>\n",
       "      <th>Course Title</th>\n",
       "      <th>Upper</th>\n",
       "      <th>Skills</th>\n",
       "    </tr>\n",
       "  </thead>\n",
       "  <tbody>\n",
       "    <tr>\n",
       "      <th>0</th>\n",
       "      <td>CS 005</td>\n",
       "      <td>Introduction to Computer Programming</td>\n",
       "      <td>False</td>\n",
       "      <td>[programming, computing, basic, 010a, introduc...</td>\n",
       "    </tr>\n",
       "    <tr>\n",
       "      <th>1</th>\n",
       "      <td>CS 006</td>\n",
       "      <td>Effective Use of the World Wide Web</td>\n",
       "      <td>False</td>\n",
       "      <td>[web, internet, engineering, tools, searching,...</td>\n",
       "    </tr>\n",
       "    <tr>\n",
       "      <th>2</th>\n",
       "      <td>CS 008</td>\n",
       "      <td>Introduction to Computing</td>\n",
       "      <td>False</td>\n",
       "      <td>[credit, 008, 010a, unix, databases, web, basi...</td>\n",
       "    </tr>\n",
       "    <tr>\n",
       "      <th>3</th>\n",
       "      <td>CS 009A</td>\n",
       "      <td>Data-Oriented Introduction to Computing I</td>\n",
       "      <td>False</td>\n",
       "      <td>[computational, software, cs009m, application,...</td>\n",
       "    </tr>\n",
       "    <tr>\n",
       "      <th>4</th>\n",
       "      <td>CS 009B</td>\n",
       "      <td>Data Oriented Introduction to Computing II</td>\n",
       "      <td>False</td>\n",
       "      <td>[programming, programs, software, algorithms, ...</td>\n",
       "    </tr>\n",
       "  </tbody>\n",
       "</table>\n",
       "</div>"
      ],
      "text/plain": [
       "  Course ID                                Course Title  Upper  \\\n",
       "0    CS 005        Introduction to Computer Programming  False   \n",
       "1    CS 006         Effective Use of the World Wide Web  False   \n",
       "2    CS 008                   Introduction to Computing  False   \n",
       "3   CS 009A   Data-Oriented Introduction to Computing I  False   \n",
       "4   CS 009B  Data Oriented Introduction to Computing II  False   \n",
       "\n",
       "                                              Skills  \n",
       "0  [programming, computing, basic, 010a, introduc...  \n",
       "1  [web, internet, engineering, tools, searching,...  \n",
       "2  [credit, 008, 010a, unix, databases, web, basi...  \n",
       "3  [computational, software, cs009m, application,...  \n",
       "4  [programming, programs, software, algorithms, ...  "
      ]
     },
     "execution_count": 7,
     "metadata": {},
     "output_type": "execute_result"
    }
   ],
   "source": [
    "df.columns = ['Course ID', 'Course Title', 'Upper', 'Skills']\n",
    "df.head()"
   ]
  },
  {
   "cell_type": "code",
   "execution_count": 8,
   "id": "c15de3ca-8292-4023-8950-bc1edab53bcc",
   "metadata": {},
   "outputs": [],
   "source": [
    "df.to_csv('UCR.csv', index=False)"
   ]
  }
 ],
 "metadata": {
  "kernelspec": {
   "display_name": "Python 3 (ipykernel)",
   "language": "python",
   "name": "python3"
  },
  "language_info": {
   "codemirror_mode": {
    "name": "ipython",
    "version": 3
   },
   "file_extension": ".py",
   "mimetype": "text/x-python",
   "name": "python",
   "nbconvert_exporter": "python",
   "pygments_lexer": "ipython3",
   "version": "3.11.5"
  }
 },
 "nbformat": 4,
 "nbformat_minor": 5
}
