{
 "cells": [
  {
   "cell_type": "markdown",
   "metadata": {},
   "source": [
    "# COGS 108 - Project Proposal"
   ]
  },
  {
   "cell_type": "markdown",
   "metadata": {},
   "source": [
    "Emily Cai \n",
    "Jae Kim \n",
    "Peter Shamoun\n",
    "Viki Shi"
   ]
  },
  {
   "cell_type": "markdown",
   "metadata": {},
   "source": [
    "# Research Question"
   ]
  },
  {
   "cell_type": "markdown",
   "metadata": {},
   "source": [
    "-  How well does the UC San Diego computer science curriculum prepare students skill-wise for industry needs in comparison to the other UCs based on the skills reported by developers in industry surveys in the past 5 years?\n"
   ]
  },
  {
   "cell_type": "markdown",
   "metadata": {},
   "source": [
    "## Background and Prior Work"
   ]
  },
  {
   "cell_type": "markdown",
   "metadata": {},
   "source": [
    "## Introduction\n",
    "Computer science programs aim to prepare students for careers in tech, but relevant industry technologies and skills often evolve and change faster than academic curriculum can adapt, leading to students lacking relevant technical skills. As the tech job market worsens and new-grad roles are harder to come by, it increasingly seems like computer science students are not being adequately prepared by their undergraduate computer science curriculum. This study examines how well the UC San Diego computer science program, and  the overall UC computer science curriculum align with industry needs by analyzing course descriptions, curriculum goals, and the recent stack overflow developer surveys. The goal is to identify gaps and suggest updates to better prepare graduates for the workforce.\n",
    "\n",
    "There has been some significant studies done in the analysis of the computer science curriculum. In the past, studies have analyzed existing curriculum and syllabi and compared them to industry needs, finding notable gaps. Some of these studies include:\n",
    "-   **[Closing the gap between software engineering education and industrial needs (Garousi et al., 2018)](https://arxiv.org/pdf/1812.01954)**\n",
    "This study reviewed 33 other studies from 12 countries found that graduates often lack hands-on skills in cloud computing, DevOps, and modern software development technology. The study concluded that while universities emphasize theoretical knowledge, employers prioritize applied skills and soft skills such as teamwork and communication.    \n",
    "-   **[The Gap between Higher Education and the Software Industry -- A Case Study on Technology Differences (Dobslaw et al., 2023)](https://arxiv.org/pdf/2303.15597)**\n",
    "This study highlighted a growing gap between the courses that aspiring software engineers take, and the work they do on the job. The study emphasized the lack of cloud computing courses in the curriculums along with other relevant technologies like Kubernetes and Docker. These technologies are increasing in demand in job postings but are not adequately covered in university curriculum. Their analysis shows that higher education emphasizes broad computing concepts, while industry job ads focus more on specific technologies. The study suggests that universities should update their curriculum more frequently so the coursework does not fall into irrelevance and the students learn these in-demand tools.     \n"
   ]
  },
  {
   "cell_type": "markdown",
   "metadata": {},
   "source": [
    "# Hypothesis\n"
   ]
  },
  {
   "cell_type": "markdown",
   "metadata": {},
   "source": [
    "UCSD is ranked third by US News and World Report among UC schools for computer science, so we expect that its curriculum is comparable, if not stronger than other UCs. We predict that UCSD's computer science curriculum prepares students as well as other UCs for industry needs, given its strong ranking. If significant gaps exist, they may be systemic across UC programs rather than specific to UCSD. However, if UCSD shows stronger alignment with industry standards, this may indicate that higher-ranked CS programs provide better preparation from academia to the workforce\n"
   ]
  },
  {
   "cell_type": "markdown",
   "metadata": {},
   "source": [
    "# Data"
   ]
  },
  {
   "cell_type": "markdown",
   "metadata": {},
   "source": [
    "Our ideal dataset would include:\n",
    "1. Curriculum data from UCSD and other UC computer science programs, including course titles and syllabi, required vs elective courses, skills explicitly taught, internship/professional requirements or opportunities\n",
    "-  This could be collected from course catalogs, department websites, or syllabus repositories over the past 5 years\n",
    "2. Industry skills and employment data, including industry-reported skills in demand, industry-reported skill gaps\n",
    "-  One resource we intend to use is the Stack Overflow Developer Survey for insight on self-reported skill use, we intend to use the most recent 5 yearshttps://survey.stackoverflow.co/ \n",
    "3. Comparitve metrics between the UCs and UCSD, including UC rankings for computer science programs, graduation and employment rates across UCs in computer science, and student-reported preparedness for industry roles\n",
    "-  These can be collected from surveys of computer science graduates, UC and department specific system reports on employment and career readiness over the last 5 years\n"
   ]
  },
  {
   "cell_type": "markdown",
   "metadata": {},
   "source": [
    "# Ethics & Privacy"
   ]
  },
  {
   "cell_type": "markdown",
   "metadata": {},
   "source": [
    "Concluding that UCSD does not adequately prepare students for the workforce could negatively impact the university's reputation and discourage prospective students. This may be a misinterpretation of the university's ability to prepare students, as it is a large research university, and many skills can be learned through on site research programs that teach technologies not outlined in the curriculum. \n",
    "\n",
    "PRIVACY: There are no significant privacy concerns in this research as the primary data—university curriculums, reported technologies, and publicly available surveys (e.g., Stack Overflow)—is already accessible to the public. \n",
    "\n",
    "BIASES: \n",
    "\n",
    "Funding Disparities : Universities with more funding may offer more thorough curriculums, teaching more languages, libraries, and frameworks than others. Thus, they have a higher correlation to tools used in jobs, skewing the analysis toward their favor. The same holds for UCs with higher prestige / reputations. \n",
    "\n",
    "However, UCSD is not the most nor least reputable UC. As a result, the more / less prestugous may even out to dappen the effect of funding. \n",
    "\n",
    "Bias in Survey Respondents: \n",
    "Our main source of data comes from the Stack Overflow 2024 Developer Survey, in which 65,000 respondents from 185 countries answered questions. Our question analyzes the curriculums of UCs, and it is safe to assume most UC CS graduates remain within the country. Therefore, respondents from the other 184 countries may use different technologies, some of which may not be taught in UC curriculums. \n",
    "\n",
    "Grouping UCs for Curriculum Averages: Taking averages of curriculums across UC campuses could mask differences in quality between individual programs, making the grouped UCs appear stronger. \n",
    "\n",
    "Inclusion of Non-CS Majors in Job Fields: \n",
    "The technologies that developers reported arent necessarily used by only computer science majors. Individuals from related majors (Data Science, Mathematics, Computer Engineering),  could have reported their skills, and thus wont align with what CS majors need to know on the job. As a solution, if possible, we should filter data to include only CS major - reported technologies.\n"
   ]
  },
  {
   "cell_type": "markdown",
   "metadata": {},
   "source": [
    "# Team Expectations "
   ]
  },
  {
   "cell_type": "markdown",
   "metadata": {},
   "source": [
    "\n",
    "Read over the [COGS108 Team Policies](https://github.com/COGS108/Projects/blob/master/COGS108_TeamPolicies.md) individually. Then, include your group’s expectations of one another for successful completion of your COGS108 project below. Discuss and agree on what all of your expectations are. Discuss how your team will communicate throughout the quarter and consider how you will communicate respectfully should conflicts arise. By including each member’s name above and by adding their name to the submission, you are indicating that you have read the COGS108 Team Policies, accept your team’s expectations below, and have every intention to fulfill them. These expectations are for your team’s use and benefit — they won’t be graded for their details.\n",
    "\n",
    "* We will discuss through our group discord to discuss anything related to the project.\n",
    "* If we have issues or disagreements, we will communicate politely and through meaningful group discussions.\n",
    "* We will divide up the work equally and all work on our part with care\n",
    "* Jae Kim, Peter Shamoun, Emily Cai, Viki Shi"
   ]
  },
  {
   "cell_type": "markdown",
   "metadata": {},
   "source": [
    "# Project Timeline Proposal"
   ]
  },
  {
   "cell_type": "markdown",
   "metadata": {},
   "source": [
    "Specify your team's specific project timeline. An example timeline has been provided. Changes the dates, times, names, and details to fit your group's plan.\n",
    "\n",
    "If you think you will need any special resources or training outside what we have covered in COGS 108 to solve your problem, then your proposal should state these clearly. For example, if you have selected a problem that involves implementing multiple neural networks, please state this so we can make sure you know what you’re doing and so we can point you to resources you will need to implement your project. Note that you are not required to use outside methods.\n",
    "\n",
    "\n",
    "\n",
    "| Meeting Date  | Meeting Time| Completed Before Meeting  | Discuss at Meeting |\n",
    "|---|---|---|---|\n",
    "| 2/05  |  3 PM | Read & Think about COGS 108 expectations; brainstorm topics/questions  | Make Discord Server to communicate; Discuss and decide on final project topic; discuss hypothesis; begin background research | \n",
    "| 2/09  |  7 PM |  Look for potential topics | Discuss ideal datasets and ethics; submit project proposal | \n",
    "| 2/16  | 7 PM  | Look for datasets  | Discuss Wrangling and possible analytical approaches; Assign group members to lead each specific part   |\n",
    "| 2/23  | 7 PM  | Import & Wrangle Data | Review/Edit data; Complete Checkpoint #1- data   |\n",
    "| 3/09  | 7 PM  | Finalize wrangling/EDA; Begin Analysis | Discuss/edit Analysis; Complete Checkpoint#2- EDA |\n",
    "| 3/15  | 7 PM  | Complete analysis; Draft results/conclusion/discussion (Wasp)| Discuss/edit full project |\n",
    "| 3/19  | Before 11:59 PM  | NA | Turn in Final Project & Group Project Surveys |"
   ]
  }
 ],
 "metadata": {
  "kernelspec": {
   "display_name": "Python 3 (ipykernel)",
   "language": "python",
   "name": "python3"
  },
  "language_info": {
   "codemirror_mode": {
    "name": "ipython",
    "version": 3
   },
   "file_extension": ".py",
   "mimetype": "text/x-python",
   "name": "python",
   "nbconvert_exporter": "python",
   "pygments_lexer": "ipython3",
   "version": "3.9.7"
  }
 },
 "nbformat": 4,
 "nbformat_minor": 2
}
