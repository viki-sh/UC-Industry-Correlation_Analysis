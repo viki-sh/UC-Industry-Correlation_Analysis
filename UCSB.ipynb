{
 "cells": [
  {
   "cell_type": "code",
   "execution_count": 1,
   "metadata": {},
   "outputs": [],
   "source": [
    "import pandas as pd\n",
    "import numpy as np\n",
    "import matplotlib.pyplot as plt\n",
    "from IPython.display import display\n",
    "import time\n",
    "from tqdm import tqdm\n",
    "\n",
    "from bs4 import BeautifulSoup\n",
    "import requests\n",
    "import re\n",
    "\n",
    "from selenium import webdriver\n",
    "from selenium.webdriver.chrome.service import Service as ChromeService\n",
    "from webdriver_manager.chrome import ChromeDriverManager\n",
    "\n",
    "\n",
    "from keybert import KeyBERT"
   ]
  },
  {
   "cell_type": "code",
   "execution_count": 17,
   "metadata": {},
   "outputs": [],
   "source": [
    "url = \"https://cs.ucsb.edu/education/courses/course-descriptions\"\n",
    "\n",
    "response = requests.get(url)\n",
    "\n",
    "if response.status_code == 200:\n",
    "    \n",
    "    soup = BeautifulSoup(response.text, \"html.parser\")\n",
    "\n",
    "    table = soup.find('table', class_ = \"table table-hover table-striped\").find_all('td', class_ = \"views-field views-field-title\")\n",
    "\n",
    "\n",
    "    urls = [\"https://cs.ucsb.edu\"+i.find('a')['href'] for i in table]\n",
    "\n",
    "else:\n",
    "    print('response failed:', response.status_code)"
   ]
  },
  {
   "cell_type": "code",
   "execution_count": 54,
   "metadata": {},
   "outputs": [],
   "source": [
    "metadata_keys = [\"Prerequisite\", \"Enrollment Comments\", \"Repeat Comments\"]\n",
    "\n",
    "data = []\n",
    "\n",
    "def clean_paragraph(text):\n",
    "    sentences = re.split(r'(?<=[.!?])\\s+', text)\n",
    "    cleaned_sentences = []\n",
    "    for sentence in sentences:\n",
    "        sentence = sentence.strip()\n",
    "        if any(sentence.startswith(key) for key in metadata_keys):\n",
    "            continue\n",
    "        if sentence:  \n",
    "            cleaned_sentences.append(sentence)\n",
    "    return \" \".join(cleaned_sentences)\n",
    "\n",
    "for url in urls:\n",
    "    response = requests.get(url)\n",
    "    soup = BeautifulSoup(response.text, \"html.parser\")\n",
    "\n",
    "    under_grad = soup.find_all('div', class_=\"field--item\")\n",
    "    \n",
    "    if under_grad[3].text == \"Undergraduate\":\n",
    "        course = under_grad[1].text\n",
    "        title = soup.find('h1', class_=\"page-header\").text.strip()\n",
    "        desc_tags = soup.find('div', class_=\"field field--name-field-course-des field--type-text-long field--label-above\") \\\n",
    "                        .find('div', class_=\"field--item\") \\\n",
    "                        .find_all(\"p\")\n",
    "        \n",
    "        cleaned_descs = []\n",
    "        for p in desc_tags:\n",
    "            text = p.get_text(\" \", strip=True)\n",
    "            if any(text.startswith(key) for key in metadata_keys):\n",
    "                cleaned_text = clean_paragraph(text)\n",
    "            else:\n",
    "                cleaned_text = text\n",
    "            if cleaned_text:\n",
    "                cleaned_descs.append(cleaned_text)\n",
    "                \n",
    "        final_desc = \" \".join(cleaned_descs)\n",
    "\n",
    "        result = [course, title, final_desc]\n",
    "        data.append(result)"
   ]
  },
  {
   "cell_type": "code",
   "execution_count": 56,
   "metadata": {},
   "outputs": [
    {
     "data": {
      "text/html": [
       "<div>\n",
       "<style scoped>\n",
       "    .dataframe tbody tr th:only-of-type {\n",
       "        vertical-align: middle;\n",
       "    }\n",
       "\n",
       "    .dataframe tbody tr th {\n",
       "        vertical-align: top;\n",
       "    }\n",
       "\n",
       "    .dataframe thead th {\n",
       "        text-align: right;\n",
       "    }\n",
       "</style>\n",
       "<table border=\"1\" class=\"dataframe\">\n",
       "  <thead>\n",
       "    <tr style=\"text-align: right;\">\n",
       "      <th></th>\n",
       "      <th>Course ID</th>\n",
       "      <th>Course Title</th>\n",
       "      <th>Description</th>\n",
       "      <th>Upper Div</th>\n",
       "    </tr>\n",
       "  </thead>\n",
       "  <tbody>\n",
       "    <tr>\n",
       "      <th>0</th>\n",
       "      <td>CMPSC 5B</td>\n",
       "      <td>Introduction to Data Science 2</td>\n",
       "      <td>Students explore the data science lifecycle, i...</td>\n",
       "      <td>False</td>\n",
       "    </tr>\n",
       "    <tr>\n",
       "      <th>1</th>\n",
       "      <td>CMPSC 5A</td>\n",
       "      <td>Introduction to Data Science 1</td>\n",
       "      <td>Introduction to data science methods and Pytho...</td>\n",
       "      <td>False</td>\n",
       "    </tr>\n",
       "    <tr>\n",
       "      <th>2</th>\n",
       "      <td>CMPSC 8/W8</td>\n",
       "      <td>Introduction to Computer Science</td>\n",
       "      <td>Introduction to computer program development f...</td>\n",
       "      <td>False</td>\n",
       "    </tr>\n",
       "    <tr>\n",
       "      <th>3</th>\n",
       "      <td>CMPSC 9</td>\n",
       "      <td>Intermediate Python Programming</td>\n",
       "      <td>Intermediate topics in Computer Science using ...</td>\n",
       "      <td>False</td>\n",
       "    </tr>\n",
       "    <tr>\n",
       "      <th>4</th>\n",
       "      <td>CMPSC 16</td>\n",
       "      <td>Problem Solving with Computers I</td>\n",
       "      <td>Fundamental building blocks for solving proble...</td>\n",
       "      <td>False</td>\n",
       "    </tr>\n",
       "  </tbody>\n",
       "</table>\n",
       "</div>"
      ],
      "text/plain": [
       "    Course ID                      Course Title  \\\n",
       "0    CMPSC 5B    Introduction to Data Science 2   \n",
       "1    CMPSC 5A    Introduction to Data Science 1   \n",
       "2  CMPSC 8/W8  Introduction to Computer Science   \n",
       "3     CMPSC 9   Intermediate Python Programming   \n",
       "4    CMPSC 16  Problem Solving with Computers I   \n",
       "\n",
       "                                         Description  Upper Div  \n",
       "0  Students explore the data science lifecycle, i...      False  \n",
       "1  Introduction to data science methods and Pytho...      False  \n",
       "2  Introduction to computer program development f...      False  \n",
       "3  Intermediate topics in Computer Science using ...      False  \n",
       "4  Fundamental building blocks for solving proble...      False  "
      ]
     },
     "execution_count": 56,
     "metadata": {},
     "output_type": "execute_result"
    }
   ],
   "source": [
    "df = pd.DataFrame(columns = ['Course ID', 'Course Title', 'Description'], data=data)\n",
    "\n",
    "df['Upper Div'] = df['Course ID'].str.extract(r'(\\d+)')[0].astype(int).apply(lambda x: x >= 100) #Upper div class is 100-199 class\n",
    "\n",
    "df.head()"
   ]
  },
  {
   "cell_type": "code",
   "execution_count": 57,
   "metadata": {},
   "outputs": [
    {
     "name": "stderr",
     "output_type": "stream",
     "text": [
      "100%|██████████| 50/50 [01:20<00:00,  1.62s/it]"
     ]
    },
    {
     "name": "stdout",
     "output_type": "stream",
     "text": [
      "Time: 80.96031427383423\n"
     ]
    },
    {
     "name": "stderr",
     "output_type": "stream",
     "text": [
      "\n"
     ]
    }
   ],
   "source": [
    "start = time.time() #time it\n",
    "tqdm.pandas() #time it\n",
    "\n",
    "def keyword_wrapper(doc):\n",
    "    kw_model = KeyBERT() #instantiate model\n",
    "    \n",
    "    stop_words = [\"cs\", \"prerequisite\", \"grade\", \"requirement\", \n",
    "    \"courses\", \"instructor\", \"faculty\", \"computer\", \"student\", \"concurrently\", \"majors\",\n",
    "    \"approach\", \"aspects\", \"awarded\",\n",
    "    \"concepts\", \"course\", \"courses\", \"credit\", \"design\", \"fields\",\n",
    "    \"foundation\", \"fundamental\", \"fundamentals\", \"introduction\", \"issues\", \"level\",\n",
    "    \"lower\", \"major\", \"methods\", \"none\", \"overview\", \"perspectives\",\n",
    "    \"practice\", \"practices\", \"principles\", \"process\", \"processes\",\n",
    "    \"programs\", \"related\", \"required\", \"requirement\", \"role\",\n",
    "    \"skills\", \"study\", \"techniques\", \"tools\", \"topics\", \"understanding\",\n",
    "    \"upper\", \"various\", \"work\"] #dont consider these words\n",
    "\n",
    "    return [i[0] for i in kw_model.extract_keywords(doc, stop_words=stop_words, top_n=10)] #top 10 keywords\n",
    "\n",
    "df['keywords'] = df['Description'].progress_apply(keyword_wrapper) #apply functon\n",
    "df.head()\n",
    "end = time.time()\n",
    "print('Time:', end - start) #print time"
   ]
  },
  {
   "cell_type": "code",
   "execution_count": 58,
   "metadata": {},
   "outputs": [],
   "source": [
    "df = df.drop(columns=['Description'])\n",
    "df['Skills'] = df['keywords']\n",
    "df = df.drop(columns=['keywords'])"
   ]
  },
  {
   "cell_type": "code",
   "execution_count": 62,
   "metadata": {},
   "outputs": [],
   "source": [
    "df.to_csv('UCSB.csv', index =False)"
   ]
  },
  {
   "cell_type": "code",
   "execution_count": null,
   "metadata": {},
   "outputs": [],
   "source": []
  }
 ],
 "metadata": {
  "kernelspec": {
   "display_name": "dsc80",
   "language": "python",
   "name": "python3"
  },
  "language_info": {
   "codemirror_mode": {
    "name": "ipython",
    "version": 3
   },
   "file_extension": ".py",
   "mimetype": "text/x-python",
   "name": "python",
   "nbconvert_exporter": "python",
   "pygments_lexer": "ipython3",
   "version": "3.12.6"
  }
 },
 "nbformat": 4,
 "nbformat_minor": 2
}
